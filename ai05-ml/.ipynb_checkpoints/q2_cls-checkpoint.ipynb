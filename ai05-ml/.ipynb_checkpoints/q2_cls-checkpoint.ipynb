{
 "cells": [
  {
   "cell_type": "code",
   "execution_count": 1,
   "metadata": {},
   "outputs": [],
   "source": [
    "import csv\n",
    "from math import log, exp"
   ]
  },
  {
   "cell_type": "code",
   "execution_count": 2,
   "metadata": {},
   "outputs": [],
   "source": [
    "def update_dict(worddict, word, count):\n",
    "    if word in worddict:\n",
    "        worddict[word] += count\n",
    "    else:\n",
    "        worddict[word] = count\n",
    "\n",
    "def train_words(label, wordfreq):\n",
    "    global tot_non_spam_words_freq, tot_spam_words_freq, words_in_non_spam_dict, words_in_spam_dict\n",
    "    for word in wordfreq:\n",
    "        count = float(wordfreq[word])\n",
    "        if label=='ham':\n",
    "            update_dict(words_in_non_spam_dict, word, count)\n",
    "            tot_non_spam_words_freq += count\n",
    "        else:\n",
    "            update_dict(words_in_spam_dict, word, count)\n",
    "            tot_spam_words_freq += count\n",
    "        "
   ]
  },
  {
   "cell_type": "code",
   "execution_count": 3,
   "metadata": {},
   "outputs": [],
   "source": [
    "trainfile = open(\"./train\", \"rb\")\n",
    "filereader = csv.reader(trainfile, delimiter=' ')\n",
    "num_spam = 0.0\n",
    "num_not_spam = 0.0\n",
    "tot_spam_words_freq = 0.0\n",
    "tot_non_spam_words_freq = 0.0\n",
    "words_in_spam_dict = {}\n",
    "words_in_non_spam_dict = {}\n",
    "\n",
    "for row in filereader:\n",
    "    wordfreq = {}\n",
    "    label = row[1]\n",
    "    wrds = row[2:]\n",
    "    for j in range(len(wrds[2:])/2):\n",
    "        wordfreq[wrds[2*j]] = wrds[2*j +1]\n",
    "    train_words(label, wordfreq)\n",
    "    \n",
    "    if label =='spam':\n",
    "        num_spam += 1\n",
    "    else:\n",
    "        num_not_spam += 1\n",
    "\n",
    "trainfile.close()"
   ]
  },
  {
   "cell_type": "code",
   "execution_count": 4,
   "metadata": {},
   "outputs": [],
   "source": [
    "num_files = num_spam + num_not_spam\n",
    "tot_words_freq = tot_spam_words_freq + tot_non_spam_words_freq\n",
    "\n",
    "p_spam = num_spam / num_files\n",
    "p_not_spam = num_not_spam / num_files\n",
    "\n",
    "# print p_spam, p_not_spam\n",
    "# print words_in_spam_dict\n",
    "# print words_in_non_spam_dict\n",
    "# print tot_words_freq, tot_spam_words_freq, tot_non_spam_words_freq\n",
    "\n",
    "avg_spam_word_freq = sum(words_in_spam_dict.values())/len(words_in_spam_dict.values())\n",
    "avg_non_spam_word_freq = sum(words_in_non_spam_dict.values())/len(words_in_non_spam_dict.values())\n",
    "\n",
    "tot_distinct_spam_words = len(words_in_spam_dict.keys())\n",
    "tot_distinct_non_spam_words = len(words_in_non_spam_dict.keys())\n",
    "tot_distinct_words = tot_distinct_spam_words + tot_distinct_non_spam_words"
   ]
  },
  {
   "cell_type": "code",
   "execution_count": null,
   "metadata": {},
   "outputs": [],
   "source": []
  },
  {
   "cell_type": "code",
   "execution_count": null,
   "metadata": {},
   "outputs": [],
   "source": []
  },
  {
   "cell_type": "code",
   "execution_count": 5,
   "metadata": {},
   "outputs": [],
   "source": [
    "def get_conditional_prob_of_word_0(word, spam_bool):\n",
    "    if spam_bool:\n",
    "        return words_in_spam_dict.get(word,0.0) / tot_spam_words_freq\n",
    "    else:\n",
    "        return words_in_non_spam_dict.get(word,0.0) / tot_non_spam_words_freq"
   ]
  },
  {
   "cell_type": "code",
   "execution_count": 6,
   "metadata": {},
   "outputs": [],
   "source": [
    "def get_conditional_prob_of_word_1(word, spam_bool):\n",
    "    global alpha\n",
    "    if spam_bool:\n",
    "        return (words_in_spam_dict.get(word,0.0) + alpha) / (tot_spam_words_freq + alpha*tot_distinct_words)\n",
    "    else:\n",
    "        return (words_in_non_spam_dict.get(word,0.0) + alpha) / (tot_non_spam_words_freq + alpha*tot_distinct_words)\n"
   ]
  },
  {
   "cell_type": "code",
   "execution_count": 7,
   "metadata": {},
   "outputs": [],
   "source": [
    "def get_conditional_prob_of_word_2(word, spam_bool):\n",
    "    global const_addendum\n",
    "    if spam_bool:\n",
    "        if word in words_in_spam_dict:\n",
    "            return words_in_spam_dict.get(word) / tot_spam_words_freq\n",
    "        else:\n",
    "            return avg_spam_word_freq / tot_spam_words_freq\n",
    "    else:\n",
    "        if word in words_in_non_spam_dict:\n",
    "            return words_in_non_spam_dict.get(word) / tot_non_spam_words_freq\n",
    "        else:\n",
    "            return avg_non_spam_word_freq / tot_non_spam_words_freq"
   ]
  },
  {
   "cell_type": "code",
   "execution_count": null,
   "metadata": {},
   "outputs": [],
   "source": []
  },
  {
   "cell_type": "code",
   "execution_count": null,
   "metadata": {},
   "outputs": [],
   "source": []
  },
  {
   "cell_type": "code",
   "execution_count": 8,
   "metadata": {},
   "outputs": [],
   "source": [
    "def get_conditional_prob_of_email_0(email_wordsfreq, check_for_spam):\n",
    "    result = 1.0\n",
    "    for word in email_wordsfreq:\n",
    "        #freq = int(email_wordsfreq[word])\n",
    "        result *= get_conditional_prob_of_word_2(word, check_for_spam)\n",
    "    return result"
   ]
  },
  {
   "cell_type": "code",
   "execution_count": null,
   "metadata": {},
   "outputs": [],
   "source": []
  },
  {
   "cell_type": "code",
   "execution_count": null,
   "metadata": {},
   "outputs": [],
   "source": []
  },
  {
   "cell_type": "code",
   "execution_count": 9,
   "metadata": {},
   "outputs": [],
   "source": [
    "def overall_result(email_wordsfreq):\n",
    "    spam = p_spam*get_conditional_prob_of_email_0(email_wordsfreq, True)\n",
    "    not_spam = p_not_spam*get_conditional_prob_of_email_0(email_wordsfreq, False)\n",
    "    return spam > not_spam"
   ]
  },
  {
   "cell_type": "code",
   "execution_count": 10,
   "metadata": {},
   "outputs": [
    {
     "name": "stdout",
     "output_type": "stream",
     "text": [
      "0.762\n"
     ]
    }
   ],
   "source": [
    "testfile = open(\"./test\", \"rb\")\n",
    "filereader = csv.reader(testfile, delimiter=' ')\n",
    "pred_labels = []\n",
    "labels = []\n",
    "alpha = 1\n",
    "const_addendum = 1000\n",
    "for row in filereader:\n",
    "    testwordfreq = {}\n",
    "    testlabel = row[1]\n",
    "    labels.append(testlabel)\n",
    "    testwrds = row[2:]\n",
    "    for j in range(len(testwrds[2:])/2):\n",
    "        testwordfreq[testwrds[2*j]] = testwrds[2*j +1]\n",
    "\n",
    "    #print overall_result(testwordfreq), testlabel\n",
    "    pred = overall_result(testwordfreq)\n",
    "    if pred:\n",
    "        pred_labels.append('spam')\n",
    "    else:\n",
    "        pred_labels.append('ham')\n",
    "\n",
    "from sklearn.metrics import accuracy_score\n",
    "print accuracy_score(labels, pred_labels)\n",
    "#     if True: break\n",
    "\n",
    "# when new word is found, we give alpha as the probability, this is smoothing factor\n",
    "# alpha = 1.0 == 0.743 \n",
    "# alpha = 1.0 == 0.743 \n",
    "# alpha = 1.0 == 0.743 \n",
    "# alpha = 1.0 == 0.743 \n",
    "# alpha = 1.0 == 0.743 \n",
    "\n"
   ]
  },
  {
   "cell_type": "code",
   "execution_count": null,
   "metadata": {},
   "outputs": [],
   "source": []
  },
  {
   "cell_type": "code",
   "execution_count": null,
   "metadata": {},
   "outputs": [],
   "source": []
  },
  {
   "cell_type": "code",
   "execution_count": null,
   "metadata": {},
   "outputs": [],
   "source": []
  },
  {
   "cell_type": "code",
   "execution_count": null,
   "metadata": {},
   "outputs": [],
   "source": []
  }
 ],
 "metadata": {
  "kernelspec": {
   "display_name": "Python 2",
   "language": "python",
   "name": "python2"
  },
  "language_info": {
   "codemirror_mode": {
    "name": "ipython",
    "version": 2
   },
   "file_extension": ".py",
   "mimetype": "text/x-python",
   "name": "python",
   "nbconvert_exporter": "python",
   "pygments_lexer": "ipython2",
   "version": "2.7.6"
  }
 },
 "nbformat": 4,
 "nbformat_minor": 2
}
